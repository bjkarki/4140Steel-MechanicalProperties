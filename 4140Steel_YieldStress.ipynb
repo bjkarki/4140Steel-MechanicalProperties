{
  "nbformat": 4,
  "nbformat_minor": 0,
  "metadata": {
    "kernelspec": {
      "display_name": "Python 3",
      "language": "python",
      "name": "python3"
    },
    "language_info": {
      "codemirror_mode": {
        "name": "ipython",
        "version": 3
      },
      "file_extension": ".py",
      "mimetype": "text/x-python",
      "name": "python",
      "nbconvert_exporter": "python",
      "pygments_lexer": "ipython3",
      "version": "3.7.4"
    },
    "colab": {
      "name": "4140Steel-YieldStress.ipynb",
      "provenance": [],
      "collapsed_sections": [],
      "include_colab_link": true
    }
  },
  "cells": [
    {
      "cell_type": "markdown",
      "metadata": {
        "id": "view-in-github",
        "colab_type": "text"
      },
      "source": [
        "<a href=\"https://colab.research.google.com/github/bjkarki/4140Steel-MechanicalProperties/blob/master/4140Steel_YieldStress.ipynb\" target=\"_parent\"><img src=\"https://colab.research.google.com/assets/colab-badge.svg\" alt=\"Open In Colab\"/></a>"
      ]
    },
    {
      "cell_type": "code",
      "metadata": {
        "id": "g6KK6l1azqD3",
        "colab_type": "code",
        "colab": {}
      },
      "source": [
        "## This code will take import tensile test data for a 4140 steel\n",
        "## We will graph a stress-strain curve.\n",
        "## Finally, we will calcualte the yield stress of the curve.\n",
        "%reset -f"
      ],
      "execution_count": 0,
      "outputs": []
    },
    {
      "cell_type": "code",
      "metadata": {
        "id": "FW7TTVBfGom6",
        "colab_type": "code",
        "colab": {}
      },
      "source": [
        "##Import the required libraries\n",
        "import pandas as pd\n",
        "import matplotlib\n",
        "import matplotlib.pyplot as plt\n",
        "import xlrd\n",
        "%matplotlib inline\n",
        "import numpy as np\n",
        "from numpy import diff\n",
        "from scipy.signal import savgol_filter"
      ],
      "execution_count": 0,
      "outputs": []
    },
    {
      "cell_type": "code",
      "metadata": {
        "id": "tPJfiKWZbIaX",
        "colab_type": "code",
        "outputId": "941389c7-c833-4925-96a3-6d319123316c",
        "colab": {
          "base_uri": "https://localhost:8080/",
          "height": 359
        }
      },
      "source": [
        "##Import the required data file\n",
        "## The file name here is: StressStrain_Data.xlsx\n",
        "data_file = \"/content/4140Steel-StressStrain.xlsx\"\n",
        "data = pd.read_excel(data_file,'Sheet2', header=None,skiprows=3)\n",
        "data.head(10)"
      ],
      "execution_count": 0,
      "outputs": [
        {
          "output_type": "execute_result",
          "data": {
            "text/html": [
              "<div>\n",
              "<style scoped>\n",
              "    .dataframe tbody tr th:only-of-type {\n",
              "        vertical-align: middle;\n",
              "    }\n",
              "\n",
              "    .dataframe tbody tr th {\n",
              "        vertical-align: top;\n",
              "    }\n",
              "\n",
              "    .dataframe thead th {\n",
              "        text-align: right;\n",
              "    }\n",
              "</style>\n",
              "<table border=\"1\" class=\"dataframe\">\n",
              "  <thead>\n",
              "    <tr style=\"text-align: right;\">\n",
              "      <th></th>\n",
              "      <th>0</th>\n",
              "      <th>1</th>\n",
              "      <th>2</th>\n",
              "      <th>3</th>\n",
              "      <th>4</th>\n",
              "      <th>5</th>\n",
              "      <th>6</th>\n",
              "      <th>7</th>\n",
              "      <th>8</th>\n",
              "      <th>9</th>\n",
              "      <th>10</th>\n",
              "    </tr>\n",
              "  </thead>\n",
              "  <tbody>\n",
              "    <tr>\n",
              "      <th>0</th>\n",
              "      <td>0.000027</td>\n",
              "      <td>4.173063</td>\n",
              "      <td>NaN</td>\n",
              "      <td>-0.000014</td>\n",
              "      <td>6.572941</td>\n",
              "      <td>NaN</td>\n",
              "      <td>0.004069</td>\n",
              "      <td>4.671372</td>\n",
              "      <td>NaN</td>\n",
              "      <td>0.011057</td>\n",
              "      <td>4.111792</td>\n",
              "    </tr>\n",
              "    <tr>\n",
              "      <th>1</th>\n",
              "      <td>0.000027</td>\n",
              "      <td>4.139527</td>\n",
              "      <td>NaN</td>\n",
              "      <td>-0.000014</td>\n",
              "      <td>6.562461</td>\n",
              "      <td>NaN</td>\n",
              "      <td>0.004069</td>\n",
              "      <td>4.646721</td>\n",
              "      <td>NaN</td>\n",
              "      <td>0.011064</td>\n",
              "      <td>4.095137</td>\n",
              "    </tr>\n",
              "    <tr>\n",
              "      <th>2</th>\n",
              "      <td>0.001182</td>\n",
              "      <td>8.222464</td>\n",
              "      <td>NaN</td>\n",
              "      <td>0.000534</td>\n",
              "      <td>9.601608</td>\n",
              "      <td>NaN</td>\n",
              "      <td>0.005944</td>\n",
              "      <td>8.204688</td>\n",
              "      <td>NaN</td>\n",
              "      <td>0.021685</td>\n",
              "      <td>10.998784</td>\n",
              "    </tr>\n",
              "    <tr>\n",
              "      <th>3</th>\n",
              "      <td>0.002751</td>\n",
              "      <td>11.391560</td>\n",
              "      <td>NaN</td>\n",
              "      <td>0.001048</td>\n",
              "      <td>11.072974</td>\n",
              "      <td>NaN</td>\n",
              "      <td>0.007819</td>\n",
              "      <td>12.609008</td>\n",
              "      <td>NaN</td>\n",
              "      <td>0.026381</td>\n",
              "      <td>18.189734</td>\n",
              "    </tr>\n",
              "    <tr>\n",
              "      <th>4</th>\n",
              "      <td>0.003995</td>\n",
              "      <td>14.332197</td>\n",
              "      <td>NaN</td>\n",
              "      <td>0.001801</td>\n",
              "      <td>11.749970</td>\n",
              "      <td>NaN</td>\n",
              "      <td>0.009097</td>\n",
              "      <td>16.419649</td>\n",
              "      <td>NaN</td>\n",
              "      <td>0.028950</td>\n",
              "      <td>25.447310</td>\n",
              "    </tr>\n",
              "    <tr>\n",
              "      <th>5</th>\n",
              "      <td>0.005469</td>\n",
              "      <td>18.595385</td>\n",
              "      <td>NaN</td>\n",
              "      <td>0.002219</td>\n",
              "      <td>12.366183</td>\n",
              "      <td>NaN</td>\n",
              "      <td>0.010375</td>\n",
              "      <td>20.554862</td>\n",
              "      <td>NaN</td>\n",
              "      <td>0.031298</td>\n",
              "      <td>32.573721</td>\n",
              "    </tr>\n",
              "    <tr>\n",
              "      <th>6</th>\n",
              "      <td>0.006732</td>\n",
              "      <td>22.973853</td>\n",
              "      <td>NaN</td>\n",
              "      <td>0.002822</td>\n",
              "      <td>13.393205</td>\n",
              "      <td>NaN</td>\n",
              "      <td>0.011451</td>\n",
              "      <td>23.999844</td>\n",
              "      <td>NaN</td>\n",
              "      <td>0.033439</td>\n",
              "      <td>39.979109</td>\n",
              "    </tr>\n",
              "    <tr>\n",
              "      <th>7</th>\n",
              "      <td>0.007982</td>\n",
              "      <td>27.494846</td>\n",
              "      <td>NaN</td>\n",
              "      <td>0.003233</td>\n",
              "      <td>14.137272</td>\n",
              "      <td>NaN</td>\n",
              "      <td>0.012528</td>\n",
              "      <td>27.473587</td>\n",
              "      <td>NaN</td>\n",
              "      <td>0.035145</td>\n",
              "      <td>46.836955</td>\n",
              "    </tr>\n",
              "    <tr>\n",
              "      <th>8</th>\n",
              "      <td>0.009239</td>\n",
              "      <td>32.235916</td>\n",
              "      <td>NaN</td>\n",
              "      <td>0.003658</td>\n",
              "      <td>14.860379</td>\n",
              "      <td>NaN</td>\n",
              "      <td>0.013792</td>\n",
              "      <td>31.551281</td>\n",
              "      <td>NaN</td>\n",
              "      <td>0.036630</td>\n",
              "      <td>54.560879</td>\n",
              "    </tr>\n",
              "    <tr>\n",
              "      <th>9</th>\n",
              "      <td>0.010285</td>\n",
              "      <td>36.490720</td>\n",
              "      <td>NaN</td>\n",
              "      <td>0.004308</td>\n",
              "      <td>15.939801</td>\n",
              "      <td>NaN</td>\n",
              "      <td>0.014868</td>\n",
              "      <td>35.121572</td>\n",
              "      <td>NaN</td>\n",
              "      <td>0.037901</td>\n",
              "      <td>62.778212</td>\n",
              "    </tr>\n",
              "  </tbody>\n",
              "</table>\n",
              "</div>"
            ],
            "text/plain": [
              "         0          1   2         3   ...         7   8         9          10\n",
              "0  0.000027   4.173063 NaN -0.000014  ...   4.671372 NaN  0.011057   4.111792\n",
              "1  0.000027   4.139527 NaN -0.000014  ...   4.646721 NaN  0.011064   4.095137\n",
              "2  0.001182   8.222464 NaN  0.000534  ...   8.204688 NaN  0.021685  10.998784\n",
              "3  0.002751  11.391560 NaN  0.001048  ...  12.609008 NaN  0.026381  18.189734\n",
              "4  0.003995  14.332197 NaN  0.001801  ...  16.419649 NaN  0.028950  25.447310\n",
              "5  0.005469  18.595385 NaN  0.002219  ...  20.554862 NaN  0.031298  32.573721\n",
              "6  0.006732  22.973853 NaN  0.002822  ...  23.999844 NaN  0.033439  39.979109\n",
              "7  0.007982  27.494846 NaN  0.003233  ...  27.473587 NaN  0.035145  46.836955\n",
              "8  0.009239  32.235916 NaN  0.003658  ...  31.551281 NaN  0.036630  54.560879\n",
              "9  0.010285  36.490720 NaN  0.004308  ...  35.121572 NaN  0.037901  62.778212\n",
              "\n",
              "[10 rows x 11 columns]"
            ]
          },
          "metadata": {
            "tags": []
          },
          "execution_count": 3
        }
      ]
    },
    {
      "cell_type": "code",
      "metadata": {
        "id": "9njnaEFkQW3B",
        "colab_type": "code",
        "outputId": "8f4f7f42-04df-4ce7-ebb9-b032ec5a0e64",
        "colab": {
          "base_uri": "https://localhost:8080/",
          "height": 359
        }
      },
      "source": [
        "## Cold formed 4140 steel\n",
        "ColdFormedSteel = data.iloc[:,6:8].dropna()\n",
        "ColdFormedSteel.head(10)"
      ],
      "execution_count": 0,
      "outputs": [
        {
          "output_type": "execute_result",
          "data": {
            "text/html": [
              "<div>\n",
              "<style scoped>\n",
              "    .dataframe tbody tr th:only-of-type {\n",
              "        vertical-align: middle;\n",
              "    }\n",
              "\n",
              "    .dataframe tbody tr th {\n",
              "        vertical-align: top;\n",
              "    }\n",
              "\n",
              "    .dataframe thead th {\n",
              "        text-align: right;\n",
              "    }\n",
              "</style>\n",
              "<table border=\"1\" class=\"dataframe\">\n",
              "  <thead>\n",
              "    <tr style=\"text-align: right;\">\n",
              "      <th></th>\n",
              "      <th>6</th>\n",
              "      <th>7</th>\n",
              "    </tr>\n",
              "  </thead>\n",
              "  <tbody>\n",
              "    <tr>\n",
              "      <th>0</th>\n",
              "      <td>0.004069</td>\n",
              "      <td>4.671372</td>\n",
              "    </tr>\n",
              "    <tr>\n",
              "      <th>1</th>\n",
              "      <td>0.004069</td>\n",
              "      <td>4.646721</td>\n",
              "    </tr>\n",
              "    <tr>\n",
              "      <th>2</th>\n",
              "      <td>0.005944</td>\n",
              "      <td>8.204688</td>\n",
              "    </tr>\n",
              "    <tr>\n",
              "      <th>3</th>\n",
              "      <td>0.007819</td>\n",
              "      <td>12.609008</td>\n",
              "    </tr>\n",
              "    <tr>\n",
              "      <th>4</th>\n",
              "      <td>0.009097</td>\n",
              "      <td>16.419649</td>\n",
              "    </tr>\n",
              "    <tr>\n",
              "      <th>5</th>\n",
              "      <td>0.010375</td>\n",
              "      <td>20.554862</td>\n",
              "    </tr>\n",
              "    <tr>\n",
              "      <th>6</th>\n",
              "      <td>0.011451</td>\n",
              "      <td>23.999844</td>\n",
              "    </tr>\n",
              "    <tr>\n",
              "      <th>7</th>\n",
              "      <td>0.012528</td>\n",
              "      <td>27.473587</td>\n",
              "    </tr>\n",
              "    <tr>\n",
              "      <th>8</th>\n",
              "      <td>0.013792</td>\n",
              "      <td>31.551281</td>\n",
              "    </tr>\n",
              "    <tr>\n",
              "      <th>9</th>\n",
              "      <td>0.014868</td>\n",
              "      <td>35.121572</td>\n",
              "    </tr>\n",
              "  </tbody>\n",
              "</table>\n",
              "</div>"
            ],
            "text/plain": [
              "          6          7\n",
              "0  0.004069   4.671372\n",
              "1  0.004069   4.646721\n",
              "2  0.005944   8.204688\n",
              "3  0.007819  12.609008\n",
              "4  0.009097  16.419649\n",
              "5  0.010375  20.554862\n",
              "6  0.011451  23.999844\n",
              "7  0.012528  27.473587\n",
              "8  0.013792  31.551281\n",
              "9  0.014868  35.121572"
            ]
          },
          "metadata": {
            "tags": []
          },
          "execution_count": 4
        }
      ]
    },
    {
      "cell_type": "code",
      "metadata": {
        "id": "48yEYoTEzqD9",
        "colab_type": "code",
        "outputId": "80a3c78e-e0b1-4dcc-d9ce-f40a1db58c67",
        "colab": {
          "base_uri": "https://localhost:8080/",
          "height": 295
        }
      },
      "source": [
        "##Plot the stress strain curve\n",
        "strain = np.array(ColdFormedSteel[6])\n",
        "stress = np.array(ColdFormedSteel[7])\n",
        "smooth_stress = savgol_filter(stress,5,4)\n",
        "plt.scatter(strain,stress,c='b',alpha=0.5)\n",
        "plt.plot(strain,smooth_stress,'r')\n",
        "plt.title('Tensile Test for Cold Formed 4140 Steel')\n",
        "plt.xlabel('Strain')\n",
        "plt.ylabel('Stress (MPa)')\n",
        "plt.legend(['Fit','Actual data'],loc='center left', bbox_to_anchor=(1, 0.5))\n",
        "plt.show()"
      ],
      "execution_count": 0,
      "outputs": [
        {
          "output_type": "display_data",
          "data": {
            "image/png": "[encoded data removed]",
            "text/plain": [
              "<Figure size 432x288 with 1 Axes>"
            ]
          },
          "metadata": {
            "tags": []
          }
        }
      ]
    },
    {
      "cell_type": "code",
      "metadata": {
        "id": "-jUJQWPPVF8X",
        "colab_type": "code",
        "outputId": "7e72ec33-0ddf-4dea-ec41-c8124e1580f2",
        "colab": {
          "base_uri": "https://localhost:8080/",
          "height": 329
        }
      },
      "source": [
        "## Plot Young's Modulus as a function of strain\n",
        "E = np.gradient(smooth_stress) / np.gradient(strain)\n",
        "E = savgol_filter(E,11,2)\n",
        "# Plot strain vs. E\n",
        "plt.plot(strain,E)\n",
        "plt.title('Young''s Modulus as a function of strain')\n",
        "plt.xlabel('Strain')\n",
        "plt.ylabel('E (MPa)')\n",
        "# Remove nan's and inf to identify the max E\n",
        "E[np.isnan(E)] = 0\n",
        "E[np.isinf(E)] = 0\n",
        "E[np.isneginf(E)] = 0\n",
        "i = np.argmax(E)\n",
        "# Plot location of max E\n",
        "plt.scatter(strain[i],E[i],c = 'r')\n",
        "plt.show()"
      ],
      "execution_count": 0,
      "outputs": [
        {
          "output_type": "stream",
          "text": [
            "/usr/local/lib/python3.6/dist-packages/ipykernel_launcher.py:1: RuntimeWarning: divide by zero encountered in true_divide\n",
            "  \"\"\"Entry point for launching an IPython kernel.\n"
          ],
          "name": "stderr"
        },
        {
          "output_type": "display_data",
          "data": {
            "image/png": "[encoded data removed]",
            "text/plain": [
              "<Figure size 432x288 with 1 Axes>"
            ]
          },
          "metadata": {
            "tags": []
          }
        }
      ]
    },
    {
      "cell_type": "code",
      "metadata": {
        "id": "UKxBqOoux78J",
        "colab_type": "code",
        "outputId": "3e0b5d8a-9bf9-4873-9bab-34eb4deb9289",
        "colab": {
          "base_uri": "https://localhost:8080/",
          "height": 295
        }
      },
      "source": [
        "## Plot where the maximum E is in stress vs strain curve\n",
        "plt.plot(strain,smooth_stress,c='b')\n",
        "plt.scatter(strain[i],smooth_stress[i],c = 'r',s=100,alpha=0.75)\n",
        "plt.title('Tensile Test for Cold Formed 4140 Steel')\n",
        "plt.xlabel('Strain')\n",
        "plt.ylabel('Stress (MPa)')\n",
        "plt.show()"
      ],
      "execution_count": 0,
      "outputs": [
        {
          "output_type": "display_data",
          "data": {
            "image/png": "[encoded data removed]",
            "text/plain": [
              "<Figure size 432x288 with 1 Axes>"
            ]
          },
          "metadata": {
            "tags": []
          }
        }
      ]
    },
    {
      "cell_type": "code",
      "metadata": {
        "id": "Ja9eZMvSPFlU",
        "colab_type": "code",
        "outputId": "79b78cd4-eeb1-4c74-9795-bbaaadf874d9",
        "colab": {
          "base_uri": "https://localhost:8080/",
          "height": 295
        }
      },
      "source": [
        "## Plot showing yield stress\n",
        "plt.plot(strain,smooth_stress,c='b')\n",
        "plt.scatter(strain[i],smooth_stress[i],c = 'r',s=100,alpha=0.75)\n",
        "plt.title('Tensile Test for Cold Formed 4140 Steel')\n",
        "plt.xlabel('Strain')\n",
        "plt.ylabel('Stress (MPa)')\n",
        "# Straight line with slope = max Youngs' Modulus\n",
        "m = E[i]\n",
        "# Given E, when is the true strain 0?\n",
        "ostrain = strain[i] - smooth_stress[i]/m\n",
        "# The standard strain offset is 0.002\n",
        "xo = ostrain + 0.002\n",
        "# Range of the straight line\n",
        "xend = strain[np.argmax(smooth_stress)]\n",
        "x = np.linspace(xo,xend,2)\n",
        "y = m*(x-xo)\n",
        "plt.plot(x,y,c='g')\n",
        "plt.show()"
      ],
      "execution_count": 0,
      "outputs": [
        {
          "output_type": "display_data",
          "data": {
            "image/png": "[encoded data removed]",
            "text/plain": [
              "<Figure size 432x288 with 1 Axes>"
            ]
          },
          "metadata": {
            "tags": []
          }
        }
      ]
    }
  ]
}